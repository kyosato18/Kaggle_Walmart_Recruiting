{
  "nbformat": 4,
  "nbformat_minor": 0,
  "metadata": {
    "colab": {
      "name": "1_LightGBM_baseline.ipynb",
      "provenance": []
    },
    "kernelspec": {
      "name": "python3",
      "display_name": "Python 3"
    },
    "language_info": {
      "name": "python"
    }
  },
  "cells": [
    {
      "cell_type": "code",
      "metadata": {
        "id": "Rjn3sQweAj_3"
      },
      "source": [
        "import pandas as pd\n",
        "import matplotlib.pyplot as plt\n",
        "import datetime\n",
        "from dateutil.relativedelta import relativedelta\n",
        "import seaborn as sns\n",
        "\n",
        "import lightgbm as lgb"
      ],
      "execution_count": 1,
      "outputs": []
    },
    {
      "cell_type": "code",
      "metadata": {
        "id": "YAaHNhebA7dL"
      },
      "source": [
        "df_f = pd.read_csv('/content/drive/MyDrive/walmart_recruiting/data/features.csv.zip')\n",
        "df_st = pd.read_csv('/content/drive/MyDrive/walmart_recruiting/data/stores.csv')\n",
        "df_train = pd.read_csv('/content/drive/MyDrive/walmart_recruiting/data/train.csv.zip')\n",
        "df_test = pd.read_csv('/content/drive/MyDrive/walmart_recruiting/data/test.csv.zip')\n",
        "df_sample = pd.read_csv('/content/drive/MyDrive/walmart_recruiting/data/sampleSubmission.csv.zip')"
      ],
      "execution_count": 2,
      "outputs": []
    },
    {
      "cell_type": "code",
      "metadata": {
        "colab": {
          "base_uri": "https://localhost:8080/",
          "height": 204
        },
        "id": "DyepZ0DbMYJP",
        "outputId": "60593561-f44c-429d-a055-8a295b83b53b"
      },
      "source": [
        "df_train.head()"
      ],
      "execution_count": 3,
      "outputs": [
        {
          "output_type": "execute_result",
          "data": {
            "text/html": [
              "<div>\n",
              "<style scoped>\n",
              "    .dataframe tbody tr th:only-of-type {\n",
              "        vertical-align: middle;\n",
              "    }\n",
              "\n",
              "    .dataframe tbody tr th {\n",
              "        vertical-align: top;\n",
              "    }\n",
              "\n",
              "    .dataframe thead th {\n",
              "        text-align: right;\n",
              "    }\n",
              "</style>\n",
              "<table border=\"1\" class=\"dataframe\">\n",
              "  <thead>\n",
              "    <tr style=\"text-align: right;\">\n",
              "      <th></th>\n",
              "      <th>Store</th>\n",
              "      <th>Dept</th>\n",
              "      <th>Date</th>\n",
              "      <th>Weekly_Sales</th>\n",
              "      <th>IsHoliday</th>\n",
              "    </tr>\n",
              "  </thead>\n",
              "  <tbody>\n",
              "    <tr>\n",
              "      <th>0</th>\n",
              "      <td>1</td>\n",
              "      <td>1</td>\n",
              "      <td>2010-02-05</td>\n",
              "      <td>24924.50</td>\n",
              "      <td>False</td>\n",
              "    </tr>\n",
              "    <tr>\n",
              "      <th>1</th>\n",
              "      <td>1</td>\n",
              "      <td>1</td>\n",
              "      <td>2010-02-12</td>\n",
              "      <td>46039.49</td>\n",
              "      <td>True</td>\n",
              "    </tr>\n",
              "    <tr>\n",
              "      <th>2</th>\n",
              "      <td>1</td>\n",
              "      <td>1</td>\n",
              "      <td>2010-02-19</td>\n",
              "      <td>41595.55</td>\n",
              "      <td>False</td>\n",
              "    </tr>\n",
              "    <tr>\n",
              "      <th>3</th>\n",
              "      <td>1</td>\n",
              "      <td>1</td>\n",
              "      <td>2010-02-26</td>\n",
              "      <td>19403.54</td>\n",
              "      <td>False</td>\n",
              "    </tr>\n",
              "    <tr>\n",
              "      <th>4</th>\n",
              "      <td>1</td>\n",
              "      <td>1</td>\n",
              "      <td>2010-03-05</td>\n",
              "      <td>21827.90</td>\n",
              "      <td>False</td>\n",
              "    </tr>\n",
              "  </tbody>\n",
              "</table>\n",
              "</div>"
            ],
            "text/plain": [
              "   Store  Dept        Date  Weekly_Sales  IsHoliday\n",
              "0      1     1  2010-02-05      24924.50      False\n",
              "1      1     1  2010-02-12      46039.49       True\n",
              "2      1     1  2010-02-19      41595.55      False\n",
              "3      1     1  2010-02-26      19403.54      False\n",
              "4      1     1  2010-03-05      21827.90      False"
            ]
          },
          "metadata": {},
          "execution_count": 3
        }
      ]
    },
    {
      "cell_type": "code",
      "metadata": {
        "id": "Ka1c8XNIMdeV"
      },
      "source": [
        "# ファイルをマージ\n",
        "df_train = pd.merge(df_train, df_st, on='Store')\n",
        "\n",
        "del df_f['IsHoliday'] # IsHolidayはfeatures.csvにもstores.csvにもあったので、片方は消しておく。\n",
        "df_train = pd.merge(df_train, df_f, on=['Store', 'Date'])"
      ],
      "execution_count": 4,
      "outputs": []
    },
    {
      "cell_type": "code",
      "metadata": {
        "id": "rONKZY-HNi4S"
      },
      "source": [
        "# 日付を特徴量とする\n",
        "df_train['Date'] = pd.to_datetime(df_train['Date'])\n",
        "df_train['Month'] = df_train['Date'].dt.month\n",
        "df_train['Day'] = df_train['Date'].dt.day\n",
        "\n",
        "# Typeはカテゴリ値が入っている。学習に使えるように数値にするのもかねて、count_encodingする\n",
        "df_train_type = df_train.groupby('Type').size().reset_index().rename(columns={0:'Type_count'})\n",
        "df_train = pd.merge(df_train, df_train_type, on='Type')"
      ],
      "execution_count": 5,
      "outputs": []
    },
    {
      "cell_type": "code",
      "metadata": {
        "colab": {
          "base_uri": "https://localhost:8080/"
        },
        "id": "kbwdphaMRxl2",
        "outputId": "7f215cfc-29c4-45dc-bd9c-c2f12f9c2616"
      },
      "source": [
        "# まずは最後の1年、その前の1年をvalとし、trainとvalの評価値を見てみる\n",
        "time_for_fold = [(df_train['Date'].max() - relativedelta(years=2), df_train['Date'].max() - relativedelta(years=1)),\n",
        "                 (df_train['Date'].max() - relativedelta(years=1), df_train['Date'].max())]\n",
        "time_for_fold"
      ],
      "execution_count": 6,
      "outputs": [
        {
          "output_type": "execute_result",
          "data": {
            "text/plain": [
              "[(Timestamp('2010-10-26 00:00:00'), Timestamp('2011-10-26 00:00:00')),\n",
              " (Timestamp('2011-10-26 00:00:00'), Timestamp('2012-10-26 00:00:00'))]"
            ]
          },
          "metadata": {},
          "execution_count": 6
        }
      ]
    },
    {
      "cell_type": "code",
      "metadata": {
        "colab": {
          "base_uri": "https://localhost:8080/"
        },
        "id": "EWccZo_wS-q2",
        "outputId": "233a045b-12b7-488d-b612-1edc4ba2cf10"
      },
      "source": [
        "# とりあえずLightGBMにつっこんでみる。\n",
        "# TODO: pureなmaeしか見ていないが、問題設定のようにHolidayのweightも反映させるべき。\n",
        "\n",
        "params = {\n",
        "    \"objective\": \"regression\",\n",
        "    \"boosting\": \"gbdt\",\n",
        "    \"num_leaves\": 40,\n",
        "    \"learning_rate\": 0.05,\n",
        "    \"feature_fraction\": 0.85,\n",
        "    \"reg_lambda\": 2,\n",
        "    \"metric\": \"mae\"\n",
        "}\n",
        "\n",
        "categorical_features = ['Store', 'Dept']\n",
        "\n",
        "models = []\n",
        "for start_time, end_time in time_for_fold:\n",
        "    print(f'val start_time: {start_time}, end_time: {end_time}')\n",
        "    trn_data = df_train[~((df_train['Date'] >= start_time) & (df_train['Date'] <= end_time))]\n",
        "    val_data = df_train[((df_train['Date'] >= start_time) & (df_train['Date'] <= end_time))]\n",
        "    \n",
        "    trn_l = trn_data[['Weekly_Sales']]\n",
        "    trn_f = trn_data.drop(columns=['Weekly_Sales', 'Date', 'Type'])\n",
        "    val_l = val_data[['Weekly_Sales']]\n",
        "    val_f = val_data.drop(columns=['Weekly_Sales', 'Date', 'Type'])\n",
        "    \n",
        "    d_training = lgb.Dataset(trn_f, label=trn_l, \n",
        "                             categorical_feature=categorical_features, free_raw_data=False)\n",
        "    d_val = lgb.Dataset(val_f, label=val_l, \n",
        "                        categorical_feature=categorical_features, free_raw_data=False)\n",
        "\n",
        "    model = lgb.train(params,\n",
        "                      train_set=d_training,\n",
        "                      num_boost_round=5000,\n",
        "                      valid_sets=[d_training, d_val],\n",
        "                      verbose_eval=200,\n",
        "                      early_stopping_rounds=200)\n",
        "\n",
        "    models.append(model)"
      ],
      "execution_count": 7,
      "outputs": [
        {
          "output_type": "stream",
          "name": "stdout",
          "text": [
            "val start_time: 2010-10-26 00:00:00, end_time: 2011-10-26 00:00:00\n"
          ]
        },
        {
          "output_type": "stream",
          "name": "stderr",
          "text": [
            "/usr/local/lib/python3.7/dist-packages/lightgbm/basic.py:1205: UserWarning: Using categorical_feature in Dataset.\n",
            "  warnings.warn('Using categorical_feature in Dataset.')\n",
            "/usr/local/lib/python3.7/dist-packages/lightgbm/basic.py:762: UserWarning: categorical_feature in param dict is overridden.\n",
            "  warnings.warn('categorical_feature in param dict is overridden.')\n"
          ]
        },
        {
          "output_type": "stream",
          "name": "stdout",
          "text": [
            "Training until validation scores don't improve for 200 rounds.\n",
            "[200]\ttraining's l1: 2600.73\tvalid_1's l1: 2971.74\n",
            "[400]\ttraining's l1: 2019.06\tvalid_1's l1: 2502.59\n",
            "[600]\ttraining's l1: 1749.17\tvalid_1's l1: 2334.11\n",
            "[800]\ttraining's l1: 1598.58\tvalid_1's l1: 2247.53\n",
            "[1000]\ttraining's l1: 1488.76\tvalid_1's l1: 2189.04\n",
            "[1200]\ttraining's l1: 1416.8\tvalid_1's l1: 2160.08\n",
            "[1400]\ttraining's l1: 1357.55\tvalid_1's l1: 2126.68\n",
            "[1600]\ttraining's l1: 1306.41\tvalid_1's l1: 2105.84\n",
            "[1800]\ttraining's l1: 1261.51\tvalid_1's l1: 2086.75\n",
            "[2000]\ttraining's l1: 1223.33\tvalid_1's l1: 2072.86\n",
            "[2200]\ttraining's l1: 1187.24\tvalid_1's l1: 2063.66\n",
            "[2400]\ttraining's l1: 1159.48\tvalid_1's l1: 2057.64\n",
            "[2600]\ttraining's l1: 1129.4\tvalid_1's l1: 2050.53\n",
            "[2800]\ttraining's l1: 1101.71\tvalid_1's l1: 2039.83\n",
            "[3000]\ttraining's l1: 1074.97\tvalid_1's l1: 2028.67\n",
            "[3200]\ttraining's l1: 1055.19\tvalid_1's l1: 2025.75\n",
            "[3400]\ttraining's l1: 1037.07\tvalid_1's l1: 2020.94\n",
            "[3600]\ttraining's l1: 1017.51\tvalid_1's l1: 2015.47\n",
            "[3800]\ttraining's l1: 1000.65\tvalid_1's l1: 2010.67\n",
            "[4000]\ttraining's l1: 982.669\tvalid_1's l1: 2008.21\n",
            "[4200]\ttraining's l1: 968.378\tvalid_1's l1: 2006\n",
            "[4400]\ttraining's l1: 954.496\tvalid_1's l1: 2004.06\n",
            "[4600]\ttraining's l1: 940.689\tvalid_1's l1: 2001.49\n",
            "[4800]\ttraining's l1: 927.432\tvalid_1's l1: 1998.88\n",
            "[5000]\ttraining's l1: 915.099\tvalid_1's l1: 1996.45\n",
            "Did not meet early stopping. Best iteration is:\n",
            "[5000]\ttraining's l1: 915.099\tvalid_1's l1: 1996.45\n",
            "val start_time: 2011-10-26 00:00:00, end_time: 2012-10-26 00:00:00\n",
            "Training until validation scores don't improve for 200 rounds.\n",
            "[200]\ttraining's l1: 2524.04\tvalid_1's l1: 2997.8\n",
            "[400]\ttraining's l1: 1957.42\tvalid_1's l1: 2556.13\n",
            "[600]\ttraining's l1: 1706.18\tvalid_1's l1: 2377.67\n",
            "[800]\ttraining's l1: 1569.67\tvalid_1's l1: 2290.93\n",
            "[1000]\ttraining's l1: 1473.15\tvalid_1's l1: 2239.72\n",
            "[1200]\ttraining's l1: 1392.87\tvalid_1's l1: 2198.06\n",
            "[1400]\ttraining's l1: 1333.96\tvalid_1's l1: 2165.76\n",
            "[1600]\ttraining's l1: 1279.72\tvalid_1's l1: 2141.36\n",
            "[1800]\ttraining's l1: 1238.4\tvalid_1's l1: 2124.88\n",
            "[2000]\ttraining's l1: 1205.58\tvalid_1's l1: 2112.21\n",
            "[2200]\ttraining's l1: 1173.65\tvalid_1's l1: 2100.76\n",
            "[2400]\ttraining's l1: 1146.34\tvalid_1's l1: 2089.74\n",
            "[2600]\ttraining's l1: 1119.5\tvalid_1's l1: 2080.13\n",
            "[2800]\ttraining's l1: 1090.37\tvalid_1's l1: 2074.34\n",
            "[3000]\ttraining's l1: 1067.75\tvalid_1's l1: 2067.56\n",
            "[3200]\ttraining's l1: 1048.26\tvalid_1's l1: 2062.16\n",
            "[3400]\ttraining's l1: 1028.9\tvalid_1's l1: 2057.71\n",
            "[3600]\ttraining's l1: 1012.02\tvalid_1's l1: 2053.36\n",
            "[3800]\ttraining's l1: 997.439\tvalid_1's l1: 2050.04\n",
            "[4000]\ttraining's l1: 981.263\tvalid_1's l1: 2046.53\n",
            "[4200]\ttraining's l1: 967.191\tvalid_1's l1: 2043.08\n",
            "[4400]\ttraining's l1: 954.899\tvalid_1's l1: 2040.39\n",
            "[4600]\ttraining's l1: 941.933\tvalid_1's l1: 2036.48\n",
            "[4800]\ttraining's l1: 928.596\tvalid_1's l1: 2033.28\n",
            "[5000]\ttraining's l1: 917.361\tvalid_1's l1: 2031.31\n",
            "Did not meet early stopping. Best iteration is:\n",
            "[5000]\ttraining's l1: 917.361\tvalid_1's l1: 2031.31\n"
          ]
        }
      ]
    },
    {
      "cell_type": "code",
      "metadata": {
        "colab": {
          "base_uri": "https://localhost:8080/",
          "height": 496
        },
        "id": "mQ9yidomb3Vt",
        "outputId": "d69d9041-967c-452f-d73b-1978543d1de6"
      },
      "source": [
        "df_fimp = pd.DataFrame()\n",
        "df_fimp[\"feature\"] = trn_f.columns.values\n",
        "df_fimp[\"importance\"] = models[0].feature_importance() / len(models)\n",
        "df_fimp[\"importance\"] += models[1].feature_importance() / len(models)\n",
        "\n",
        "plt.figure(figsize=(14, 7))\n",
        "sns.barplot(x=\"importance\", y=\"feature\", data=df_fimp.sort_values(by=\"importance\", ascending=False))\n",
        "plt.title(\"LightGBM Feature Importance\")\n",
        "plt.rcParams[\"font.size\"] = 18\n",
        "plt.tight_layout()"
      ],
      "execution_count": 8,
      "outputs": [
        {
          "output_type": "display_data",
          "data": {
            "image/png": "[encoded data removed]",
            "text/plain": [
              "<Figure size 1008x504 with 1 Axes>"
            ]
          },
          "metadata": {
            "needs_background": "light"
          }
        }
      ]
    },
    {
      "cell_type": "code",
      "metadata": {
        "id": "ZnG7DOCxdcpi"
      },
      "source": [
        ""
      ],
      "execution_count": 8,
      "outputs": []
    },
    {
      "cell_type": "markdown",
      "metadata": {
        "id": "30TcFEsRbhMb"
      },
      "source": [
        "\n",
        "中盤の1年間と最後の1年間で、valの値が大きく変わらない。\n",
        "- これらをvalとして、CV値として評価できそう。\n",
        "- 本当はn等分に分割したいが、EDAから日付が重要そうなので、valの期間は1年使うべきかもしれない。\n",
        "- TODO: 半年単位にしたら問題が起きるか、検証する\n",
        "\n",
        "学習の方針:\n",
        "- 今回は全Dept, Storeをごちゃまぜで学習させたが、1model/1Deptでもよいかもしれない。\n",
        "- EDAから、Type:Cのみ特殊な変化をしていたので、Typeも分割できる？\n",
        "- 以下の複数の分割の方法でmodelを作り、アンサンブルするのもよさそう。\n",
        "  - 1model/全Dept (このbaseline)\n",
        "  - 1model/1Dept\n",
        "  - 1model/1Dept・1Type (Dept:1・Type:Aのみ, Dept:1・Type:Bのみ, Dept:1・Type:Cのみ...と作っていく)\n",
        "\n",
        "特徴量:\n",
        "- target encoding\n",
        "  - targetのmax, min, mean\n",
        "- ピークになる日付がmodelから分かりやすいような特徴量\n",
        "  - 日付のtarget_encoding\n",
        "- tsfreshによる特徴量作成\n",
        "- phophetでtrendの変化を見る\n",
        "\n",
        "model:\n",
        "- LSTM\n",
        "- 1DCNN\n",
        "- TabNet\n",
        "- (transformer的な手法？)\n",
        "- これらのensemble"
      ]
    },
    {
      "cell_type": "code",
      "metadata": {
        "id": "3776ztocwZHz"
      },
      "source": [
        ""
      ],
      "execution_count": 8,
      "outputs": []
    }
  ]
}